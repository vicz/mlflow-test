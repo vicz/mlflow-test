{
 "cells": [
  {
   "cell_type": "markdown",
   "id": "4a162152-7a8b-4038-90d1-eb23b7771d6b",
   "metadata": {},
   "source": [
    "Based on https://pythonprogramming.net/introduction-deep-learning-python-tensorflow-keras/"
   ]
  },
  {
   "cell_type": "code",
   "execution_count": 267,
   "id": "62f5d14a-07a1-4836-b4fe-d55e02e0abeb",
   "metadata": {},
   "outputs": [],
   "source": [
    "import tensorflow.keras as keras\n",
    "import tensorflow as tf"
   ]
  },
  {
   "cell_type": "markdown",
   "id": "b4f41611-7792-46c1-bb11-9b6a039fc4d6",
   "metadata": {},
   "source": [
    "# Load data"
   ]
  },
  {
   "cell_type": "code",
   "execution_count": 268,
   "id": "2f0136f7-9e8c-4d09-bc77-e341c80bc63d",
   "metadata": {},
   "outputs": [],
   "source": [
    "mnist = tf.keras.datasets.mnist"
   ]
  },
  {
   "cell_type": "code",
   "execution_count": 270,
   "id": "a098816f-24b6-4559-99cf-ddcd49f9359e",
   "metadata": {},
   "outputs": [],
   "source": [
    "(x_train, y_train),(x_test, y_test) = mnist.load_data()"
   ]
  },
  {
   "cell_type": "code",
   "execution_count": 274,
   "id": "937bf2fa-db8a-4ecc-88d2-3e45df4a9035",
   "metadata": {},
   "outputs": [
    {
     "name": "stdout",
     "output_type": "stream",
     "text": [
      "6\n"
     ]
    },
    {
     "data": {
      "image/png": "[encoded data removed]",
      "text/plain": [
       "<Figure size 640x480 with 1 Axes>"
      ]
     },
     "metadata": {},
     "output_type": "display_data"
    }
   ],
   "source": [
    "import matplotlib.pyplot as plt\n",
    "\n",
    "n = 13\n",
    "print(y_train[n])\n",
    "plt.imshow(x_train[n],cmap=plt.cm.binary)\n",
    "plt.show()"
   ]
  },
  {
   "cell_type": "markdown",
   "id": "f78d8df9-353b-4adc-b1d7-df83ebb388c3",
   "metadata": {},
   "source": [
    "### *Optional* normalize step"
   ]
  },
  {
   "cell_type": "code",
   "execution_count": 253,
   "id": "6131ce10-3c99-43bb-ac7c-974b22f96387",
   "metadata": {},
   "outputs": [],
   "source": [
    "x_train = tf.keras.utils.normalize(x_train, axis=1)\n",
    "x_test = tf.keras.utils.normalize(x_test, axis=1)"
   ]
  },
  {
   "cell_type": "code",
   "execution_count": 248,
   "id": "dd9cbf82-72fb-44a5-82c2-043118f91f1d",
   "metadata": {},
   "outputs": [
    {
     "name": "stdout",
     "output_type": "stream",
     "text": [
      "./my-digits/0-001.png\n",
      "./my-digits/1-001.png\n",
      "./my-digits/2-001.png\n",
      "./my-digits/3-001.png\n",
      "./my-digits/4-001.png\n",
      "./my-digits/5-001.png\n",
      "./my-digits/6-001.png\n",
      "./my-digits/7-001.png\n",
      "./my-digits/8-001.png\n",
      "./my-digits/9-001.png\n",
      "10\n",
      "5\n",
      "[[  0   0   0   0   0 255 255 255 255 255 249 252 255 255 255 255 255 255\n",
      "  255 255 255 255 255   0   0   0   0   0]\n",
      " [  0   0   0   0   0 255 255 255 247 192 147 158 180 189 209 215 214 215\n",
      "  215 230 255 255 255   0   0   0   0   0]\n",
      " [  0   0   0   0   0 255 255 255 187  87 131 121 100  85  80  92  91  90\n",
      "   66 116 246 255 255   0   0   0   0   0]\n",
      " [  0   0   0   0   0 255 255 255 173 103 234 244 237 235 217 209 210 208\n",
      "  171 184 252 255 255   0   0   0   0   0]\n",
      " [  0   0   0   0   0 255 255 255 175 107 245 255 255 255 255 255 255 255\n",
      "  255 255 255 255 255   0   0   0   0   0]\n",
      " [  0   0   0   0   0 255 255 255 157  74 238 255 255 255 255 255 255 255\n",
      "  255 255 255 255 255   0   0   0   0   0]\n",
      " [  0   0   0   0   0 255 255 232 108  80 226 252 252 253 255 255 255 255\n",
      "  255 255 255 255 255   0   0   0   0   0]\n",
      " [  0   0   0   0   0 255 255 145  61 126 136 126 125 140 207 255 255 255\n",
      "  255 255 255 255 255   0   0   0   0   0]\n",
      " [  0   0   0   0   0 255 255 172 100 123 133 143 143 131 105 167 240 255\n",
      "  255 255 255 255 255   0   0   0   0   0]\n",
      " [  0   0   0   0   0 255 255 251 240 238 247 252 252 247 190  89 125 209\n",
      "  255 255 255 255 255   0   0   0   0   0]\n",
      " [  0   0   0   0   0 255 255 255 255 255 255 255 255 255 255 229 147 105\n",
      "  159 228 255 255 255   0   0   0   0   0]\n",
      " [  0   0   0   0   0 255 255 255 255 255 255 255 255 255 255 255 250 192\n",
      "   95 109 187 248 255   0   0   0   0   0]\n",
      " [  0   0   0   0   0 255 255 255 255 255 255 255 255 255 255 255 255 255\n",
      "  241 169  92 157 250   0   0   0   0   0]\n",
      " [  0   0   0   0   0 255 255 255 255 255 255 255 255 255 255 255 255 255\n",
      "  255 249 125 112 243   0   0   0   0   0]\n",
      " [  0   0   0   0   0 255 255 255 255 255 255 255 255 255 255 255 255 255\n",
      "  255 250 145 136 248   0   0   0   0   0]\n",
      " [  0   0   0   0   0 255 255 255 255 255 255 255 255 255 255 255 255 255\n",
      "  255 255 169 111 243   0   0   0   0   0]\n",
      " [  0   0   0   0   0 255 255 255 255 255 255 255 255 255 255 255 255 255\n",
      "  255 255 174 107 242   0   0   0   0   0]\n",
      " [  0   0   0   0   0 255 255 255 255 255 255 255 255 255 255 255 255 255\n",
      "  255 255 174 107 242   0   0   0   0   0]\n",
      " [  0   0   0   0   0 255 255 255 255 255 255 255 255 255 255 255 255 255\n",
      "  255 255 175 106 242   0   0   0   0   0]\n",
      " [  0   0   0   0   0 255 255 255 255 255 255 255 255 255 255 255 255 255\n",
      "  255 255 165 114 244   0   0   0   0   0]\n",
      " [  0   0   0   0   0 255 255 255 255 255 255 255 255 255 255 255 255 255\n",
      "  255 244 122 157 252   0   0   0   0   0]\n",
      " [  0   0   0   0   0 255 255 255 255 255 255 255 255 255 255 255 255 255\n",
      "  255 182 104 221 255   0   0   0   0   0]\n",
      " [  0   0   0   0   0 255 239 255 255 255 255 255 255 255 255 255 255 255\n",
      "  204  77 166 255 255   0   0   0   0   0]\n",
      " [  0   0   0   0   0 242  98 146 212 244 255 255 255 255 255 255 253 195\n",
      "  110 163 253 255 255   0   0   0   0   0]\n",
      " [  0   0   0   0   0 248 142  79 101 106 111 204 237 236 224 206 123 103\n",
      "  178 255 255 255 255   0   0   0   0   0]\n",
      " [  0   0   0   0   0 255 251 238 203 157 122  94  99  99  90  77 126 206\n",
      "  253 255 255 255 255   0   0   0   0   0]\n",
      " [  0   0   0   0   0 255 255 255 255 255 255 207 181 182 200 214 250 255\n",
      "  255 255 255 255 255   0   0   0   0   0]\n",
      " [  0   0   0   0   0 255 255 255 255 255 255 255 255 255 255 255 255 255\n",
      "  255 255 255 255 255   0   0   0   0   0]]\n"
     ]
    }
   ],
   "source": [
    "import numpy as np\n",
    "import PIL.Image\n",
    "import PIL.ImageOps\n",
    "\n",
    "sets = ['001']\n",
    "x_personal = []\n",
    "y_personal = []\n",
    "for s in sets:\n",
    "    for d in range(0,10):\n",
    "        filename = f\"./my-digits/{d}-{s}.png\"\n",
    "        print(filename)\n",
    "        img = PIL.Image.open(filename)\n",
    "        img = PIL.ImageOps.invert(img.convert('L'))\n",
    "        img.thumbnail((28, 28))\n",
    "        aimg = 255 - np.asarray(img, dtype='int32')\n",
    "        w = aimg.shape[0]\n",
    "        h = aimg.shape[1]\n",
    "        aimg = np.pad(aimg, ((14-w//2, 14-w+w//2), (14-h//2, 14-h+h//2)))\n",
    "\n",
    "        x_personal.append(aimg)\n",
    "        y_personal.append(d)"
   ]
  },
  {
   "cell_type": "code",
   "execution_count": 251,
   "id": "4c56918b-9328-40cb-8a2d-ecdba2c22e34",
   "metadata": {},
   "outputs": [
    {
     "name": "stdout",
     "output_type": "stream",
     "text": [
      "10\n",
      "5\n",
      "tf.Tensor(\n",
      "[[0.         0.         0.         0.         0.         0.18950242\n",
      "  0.19497544 0.20052277 0.21544357 0.22349195 0.20412093 0.20408346\n",
      "  0.20609926 0.20622127 0.20677145 0.20708744 0.20693785 0.20712523\n",
      "  0.20875932 0.20941798 0.22248429 0.2190186  0.19132906 0.\n",
      "  0.         0.         0.         0.        ]\n",
      " [0.         0.         0.         0.         0.         0.18950242\n",
      "  0.19497544 0.20052277 0.20868455 0.1682763  0.12050512 0.12795709\n",
      "  0.14548182 0.15284635 0.1694715  0.17460313 0.1736655  0.174635\n",
      "  0.17601277 0.18888682 0.22248429 0.2190186  0.19132906 0.\n",
      "  0.         0.         0.         0.        ]\n",
      " [0.         0.         0.         0.         0.         0.18950242\n",
      "  0.19497544 0.20052277 0.15799195 0.0762502  0.10738892 0.09799245\n",
      "  0.08082324 0.06874042 0.06486947 0.0747139  0.07384841 0.07310302\n",
      "  0.05403183 0.09526465 0.21463192 0.2190186  0.19132906 0.\n",
      "  0.         0.         0.         0.        ]\n",
      " [0.         0.         0.         0.         0.         0.18950242\n",
      "  0.19497544 0.20052277 0.14616367 0.09027322 0.19182448 0.19760461\n",
      "  0.19155107 0.19004706 0.17595844 0.1697305  0.17041941 0.1689492\n",
      "  0.13999155 0.15110946 0.21986683 0.2190186  0.19132906 0.\n",
      "  0.         0.         0.         0.        ]\n",
      " [0.         0.         0.         0.         0.         0.18950242\n",
      "  0.19497544 0.20052277 0.14785343 0.09377898 0.20084187 0.20651302\n",
      "  0.20609926 0.20622127 0.20677145 0.20708744 0.20693785 0.20712523\n",
      "  0.20875932 0.20941798 0.22248429 0.2190186  0.19132906 0.\n",
      "  0.         0.         0.         0.        ]\n",
      " [0.         0.         0.         0.         0.         0.18950242\n",
      "  0.19497544 0.20052277 0.13264565 0.06485648 0.19510354 0.20651302\n",
      "  0.20609926 0.20622127 0.20677145 0.20708744 0.20693785 0.20712523\n",
      "  0.20875932 0.20941798 0.22248429 0.2190186  0.19132906 0.\n",
      "  0.         0.         0.         0.        ]\n",
      " [0.         0.         0.         0.         0.         0.18950242\n",
      "  0.19497544 0.1824364  0.09124669 0.07011512 0.18526639 0.20408346\n",
      "  0.20367455 0.20460385 0.20677145 0.20708744 0.20693785 0.20712523\n",
      "  0.20875932 0.20941798 0.22248429 0.2190186  0.19132906 0.\n",
      "  0.         0.         0.         0.        ]\n",
      " [0.         0.         0.         0.         0.         0.18950242\n",
      "  0.19497544 0.11402275 0.05153748 0.11043131 0.11148774 0.10204173\n",
      "  0.10102905 0.11321952 0.16784976 0.20708744 0.20693785 0.20712523\n",
      "  0.20875932 0.20941798 0.22248429 0.2190186  0.19132906 0.\n",
      "  0.         0.         0.         0.        ]\n",
      " [0.         0.         0.         0.         0.         0.18950242\n",
      "  0.19497544 0.13525458 0.08448768 0.107802   0.10902845 0.11580926\n",
      "  0.11557723 0.10594112 0.08514118 0.13562198 0.19476503 0.20712523\n",
      "  0.20875932 0.20941798 0.22248429 0.2190186  0.19132906 0.\n",
      "  0.         0.         0.         0.        ]\n",
      " [0.         0.         0.         0.         0.         0.18950242\n",
      "  0.19497544 0.19737731 0.20277041 0.20859249 0.2024814  0.20408346\n",
      "  0.20367455 0.19975159 0.154065   0.07227758 0.10144012 0.16976146\n",
      "  0.20875932 0.20941798 0.22248429 0.2190186  0.19132906 0.\n",
      "  0.         0.         0.         0.        ]\n",
      " [0.         0.         0.         0.         0.         0.18950242\n",
      "  0.19497544 0.20052277 0.21544357 0.22349195 0.20903951 0.20651302\n",
      "  0.20609926 0.20622127 0.20677145 0.18597265 0.11929359 0.08528686\n",
      "  0.13016757 0.18724433 0.22248429 0.2190186  0.19132906 0.\n",
      "  0.         0.         0.         0.        ]\n",
      " [0.         0.         0.         0.         0.         0.18950242\n",
      "  0.19497544 0.20052277 0.21544357 0.22349195 0.20903951 0.20651302\n",
      "  0.20609926 0.20622127 0.20677145 0.20708744 0.20288025 0.15595311\n",
      "  0.07777308 0.08951592 0.16315515 0.21300632 0.19132906 0.\n",
      "  0.         0.         0.         0.        ]\n",
      " [0.         0.         0.         0.         0.         0.18950242\n",
      "  0.19497544 0.20052277 0.21544357 0.22349195 0.20903951 0.20651302\n",
      "  0.20609926 0.20622127 0.20677145 0.20708744 0.20693785 0.20712523\n",
      "  0.19729804 0.13879076 0.08026884 0.13484675 0.18757752 0.\n",
      "  0.         0.         0.         0.        ]\n",
      " [0.         0.         0.         0.         0.         0.18950242\n",
      "  0.19497544 0.20052277 0.21544357 0.22349195 0.20903951 0.20651302\n",
      "  0.20609926 0.20622127 0.20677145 0.20708744 0.20693785 0.20712523\n",
      "  0.20875932 0.20449051 0.10906093 0.09619641 0.18232535 0.\n",
      "  0.         0.         0.         0.        ]\n",
      " [0.         0.         0.         0.         0.         0.18950242\n",
      "  0.19497544 0.20052277 0.21544357 0.22349195 0.20903951 0.20651302\n",
      "  0.20609926 0.20622127 0.20677145 0.20708744 0.20693785 0.20712523\n",
      "  0.20875932 0.20531176 0.12651068 0.11680992 0.1860769  0.\n",
      "  0.         0.         0.         0.        ]\n",
      " [0.         0.         0.         0.         0.         0.18950242\n",
      "  0.19497544 0.20052277 0.21544357 0.22349195 0.20903951 0.20651302\n",
      "  0.20609926 0.20622127 0.20677145 0.20708744 0.20693785 0.20712523\n",
      "  0.20875932 0.20941798 0.14745037 0.09533751 0.18232535 0.\n",
      "  0.         0.         0.         0.        ]\n",
      " [0.         0.         0.         0.         0.         0.18950242\n",
      "  0.19497544 0.20052277 0.21544357 0.22349195 0.20903951 0.20651302\n",
      "  0.20609926 0.20622127 0.20677145 0.20708744 0.20693785 0.20712523\n",
      "  0.20875932 0.20941798 0.1518128  0.09190192 0.18157503 0.\n",
      "  0.         0.         0.         0.        ]\n",
      " [0.         0.         0.         0.         0.         0.18950242\n",
      "  0.19497544 0.20052277 0.21544357 0.22349195 0.20903951 0.20651302\n",
      "  0.20609926 0.20622127 0.20677145 0.20708744 0.20693785 0.20712523\n",
      "  0.20875932 0.20941798 0.1518128  0.09190192 0.18157503 0.\n",
      "  0.         0.         0.         0.        ]\n",
      " [0.         0.         0.         0.         0.         0.18950242\n",
      "  0.19497544 0.20052277 0.21544357 0.22349195 0.20903951 0.20651302\n",
      "  0.20609926 0.20622127 0.20677145 0.20708744 0.20693785 0.20712523\n",
      "  0.20875932 0.20941798 0.1526853  0.09104303 0.18157503 0.\n",
      "  0.         0.         0.         0.        ]\n",
      " [0.         0.         0.         0.         0.         0.18950242\n",
      "  0.19497544 0.20052277 0.21544357 0.22349195 0.20903951 0.20651302\n",
      "  0.20609926 0.20622127 0.20677145 0.20708744 0.20693785 0.20712523\n",
      "  0.20875932 0.20941798 0.14396043 0.0979142  0.18307565 0.\n",
      "  0.         0.         0.         0.        ]\n",
      " [0.         0.         0.         0.         0.         0.18950242\n",
      "  0.19497544 0.20052277 0.21544357 0.22349195 0.20903951 0.20651302\n",
      "  0.20609926 0.20622127 0.20677145 0.20708744 0.20693785 0.20712523\n",
      "  0.20875932 0.20038427 0.10644346 0.13484675 0.18907814 0.\n",
      "  0.         0.         0.         0.        ]\n",
      " [0.         0.         0.         0.         0.         0.18950242\n",
      "  0.19497544 0.20052277 0.21544357 0.22349195 0.20903951 0.20651302\n",
      "  0.20609926 0.20622127 0.20677145 0.20708744 0.20693785 0.20712523\n",
      "  0.20875932 0.14946696 0.09073869 0.18981612 0.19132906 0.\n",
      "  0.         0.         0.         0.        ]\n",
      " [0.         0.         0.         0.         0.         0.18950242\n",
      "  0.18274169 0.20052277 0.21544357 0.22349195 0.20903951 0.20651302\n",
      "  0.20609926 0.20622127 0.20677145 0.20708744 0.20693785 0.20712523\n",
      "  0.16700746 0.06323602 0.14483291 0.2190186  0.19132906 0.\n",
      "  0.         0.         0.         0.        ]\n",
      " [0.         0.         0.         0.         0.         0.1798415\n",
      "  0.07493173 0.11480912 0.17911386 0.21385112 0.20903951 0.20651302\n",
      "  0.20609926 0.20622127 0.20677145 0.20708744 0.20531482 0.15838988\n",
      "  0.09005304 0.13386327 0.22073932 0.2190186  0.19132906 0.\n",
      "  0.         0.         0.         0.        ]\n",
      " [0.         0.         0.         0.         0.         0.1843004\n",
      "  0.10857455 0.06212274 0.08533255 0.09290253 0.09099367 0.16521043\n",
      "  0.19155107 0.19085576 0.18163453 0.16729417 0.09981708 0.08366235\n",
      "  0.1457222  0.20941798 0.22248429 0.2190186  0.19132906 0.\n",
      "  0.         0.         0.         0.        ]\n",
      " [0.         0.         0.         0.         0.         0.18950242\n",
      "  0.191917   0.18715459 0.17150998 0.13760093 0.10001106 0.07612637\n",
      "  0.080015   0.08006237 0.07297815 0.06253228 0.10225164 0.16732469\n",
      "  0.207122   0.20941798 0.22248429 0.2190186  0.19132906 0.\n",
      "  0.         0.         0.         0.        ]\n",
      " [0.         0.         0.         0.         0.         0.18950242\n",
      "  0.19497544 0.20052277 0.21544357 0.22349195 0.20903951 0.16763999\n",
      "  0.14629006 0.14718537 0.16217369 0.17379104 0.20288025 0.20712523\n",
      "  0.20875932 0.20941798 0.22248429 0.2190186  0.19132906 0.\n",
      "  0.         0.         0.         0.        ]\n",
      " [0.         0.         0.         0.         0.         0.18950242\n",
      "  0.19497544 0.20052277 0.21544357 0.22349195 0.20903951 0.20651302\n",
      "  0.20609926 0.20622127 0.20677145 0.20708744 0.20693785 0.20712523\n",
      "  0.20875932 0.20941798 0.22248429 0.2190186  0.19132906 0.\n",
      "  0.         0.         0.         0.        ]], shape=(28, 28), dtype=float32)\n"
     ]
    }
   ],
   "source": [
    "print(len(y_personal))\n",
    "n = 5\n",
    "print(y_personal[n])\n",
    "print(x_personal[n])\n",
    "# plt.imshow(x_personal[n], cmap=plt.cm.binary)\n",
    "# plt.show()"
   ]
  },
  {
   "cell_type": "code",
   "execution_count": 249,
   "id": "b95368ae-7c2e-4190-8ef5-0d4f9cd8cbec",
   "metadata": {},
   "outputs": [],
   "source": [
    "x_personal = tf.keras.utils.normalize(x_personal, axis=1)\n",
    "x_personal = tf.keras.utils.normalize(x_personal, axis=1)"
   ]
  },
  {
   "cell_type": "code",
   "execution_count": 250,
   "id": "340d2501-1301-4a5a-9d50-2b44cc180556",
   "metadata": {},
   "outputs": [
    {
     "data": {
      "text/plain": [
       "[0, 1, 2, 3, 4, 5, 6, 7, 8, 9]"
      ]
     },
     "execution_count": 250,
     "metadata": {},
     "output_type": "execute_result"
    }
   ],
   "source": [
    "y_personal"
   ]
  },
  {
   "cell_type": "code",
   "execution_count": 227,
   "id": "3fc7ef74-bdb7-49fe-a48d-c3245dd71f65",
   "metadata": {},
   "outputs": [
    {
     "name": "stdout",
     "output_type": "stream",
     "text": [
      "60000 60000\n",
      "60010 60010\n"
     ]
    }
   ],
   "source": [
    "print(len(x_train), len(y_train))\n",
    "x_train = np.concatenate((x_train, np.array(x_personal)))\n",
    "y_train = np.concatenate((y_train, np.array(y_personal)))\n",
    "print(len(x_train), len(y_train))"
   ]
  },
  {
   "cell_type": "code",
   "execution_count": 220,
   "id": "d9f309a8-25c4-4ef7-a811-0c4a7fb97d2f",
   "metadata": {},
   "outputs": [
    {
     "data": {
      "text/plain": [
       "array([[[0.0e+000, 0.0e+000],\n",
       "        [2.5e-323, 2.5e-323]],\n",
       "\n",
       "       [[3.1e+000, 3.2e+000],\n",
       "        [4.1e+000, 4.2e+000]]])"
      ]
     },
     "execution_count": 220,
     "metadata": {},
     "output_type": "execute_result"
    }
   ],
   "source": [
    "# Just some numpy arrays tests\n",
    "\n",
    "# a = np.array([[\n",
    "#     [1.1, 1.2],\n",
    "#     [2.2, 2.2]\n",
    "# ]])\n",
    "a = np.empty((1,2,2))\n",
    "# a = np.array([], ndmin=3)\n",
    "\n",
    "# cannot reshape array of size 0 into shape (1,2,2)\n",
    "# a = np.array([])\n",
    "# a.shape = (1, 2, 2)\n",
    "# print(a)\n",
    "\n",
    "np.insert(a, 1, [\n",
    "    [3.1, 3.2],\n",
    "    [4.1, 4.2]\n",
    "], axis=0)\n"
   ]
  },
  {
   "cell_type": "markdown",
   "id": "088d7c39-bdcd-4566-ad25-791f5d762328",
   "metadata": {},
   "source": [
    "# Train!"
   ]
  },
  {
   "cell_type": "code",
   "execution_count": 279,
   "id": "bb4df299-fb20-4069-b5f3-842767e2d498",
   "metadata": {},
   "outputs": [
    {
     "name": "stdout",
     "output_type": "stream",
     "text": [
      "Epoch 1/3\n",
      "\u001b[1m1875/1875\u001b[0m \u001b[32m━━━━━━━━━━━━━━━━━━━━\u001b[0m\u001b[37m\u001b[0m \u001b[1m10s\u001b[0m 5ms/step - accuracy: 0.8214 - loss: 4.0275\n",
      "Epoch 2/3\n",
      "\u001b[1m1875/1875\u001b[0m \u001b[32m━━━━━━━━━━━━━━━━━━━━\u001b[0m\u001b[37m\u001b[0m \u001b[1m9s\u001b[0m 5ms/step - accuracy: 0.9198 - loss: 0.3514\n",
      "Epoch 3/3\n",
      "\u001b[1m1875/1875\u001b[0m \u001b[32m━━━━━━━━━━━━━━━━━━━━\u001b[0m\u001b[37m\u001b[0m \u001b[1m9s\u001b[0m 5ms/step - accuracy: 0.9399 - loss: 0.2349\n"
     ]
    },
    {
     "data": {
      "text/plain": [
       "<keras.src.callbacks.history.History at 0x7f3eb04e6a30>"
      ]
     },
     "execution_count": 279,
     "metadata": {},
     "output_type": "execute_result"
    }
   ],
   "source": [
    "model = tf.keras.models.Sequential()\n",
    "\n",
    "# input layer\n",
    "model.add(tf.keras.layers.Flatten())\n",
    "\n",
    "# two hidden dense layers \n",
    "model.add(tf.keras.layers.Dense(128, activation=tf.nn.relu))\n",
    "model.add(tf.keras.layers.Dense(128, activation=tf.nn.relu))\n",
    "\n",
    "# output layer:\n",
    "model.add(tf.keras.layers.Dense(10, 'softmax')) \n",
    "# In original article it was activation=tf.nn.softmax causes an error while loading model:\n",
    "# Exception encountered: Could not interpret activation function identifier: {'module': 'builtins', 'class_name': 'function', 'config': 'softmax_v2', 'registered_name': 'function'}\n",
    "\n",
    "model.compile(optimizer='adam',\n",
    "              loss='sparse_categorical_crossentropy',\n",
    "              metrics=['accuracy'])\n",
    "\n",
    "# train the model\n",
    "model.fit(x_train, y_train, epochs=3)"
   ]
  },
  {
   "cell_type": "code",
   "execution_count": 280,
   "id": "a2b0d5b9-36b9-4b89-aa68-d183a318f809",
   "metadata": {},
   "outputs": [
    {
     "name": "stdout",
     "output_type": "stream",
     "text": [
      "\u001b[1m313/313\u001b[0m \u001b[32m━━━━━━━━━━━━━━━━━━━━\u001b[0m\u001b[37m\u001b[0m \u001b[1m1s\u001b[0m 3ms/step - accuracy: 0.9364 - loss: 0.2456\n",
      "0.21389652788639069\n",
      "0.9452000260353088\n"
     ]
    }
   ],
   "source": [
    "val_loss, val_acc = model.evaluate(x_test, y_test)  # evaluate the out of sample data with model\n",
    "print(val_loss)  # model's loss (error)\n",
    "print(val_acc)  # model's accuracy"
   ]
  },
  {
   "cell_type": "code",
   "execution_count": 281,
   "id": "f717c7fb-b0d4-4068-8dd2-7330369a1c1d",
   "metadata": {
    "scrolled": true
   },
   "outputs": [],
   "source": [
    "model.save('./mnist-test1.keras')"
   ]
  },
  {
   "cell_type": "markdown",
   "id": "c6b064d8-280d-4480-b0b3-04f620954ec5",
   "metadata": {},
   "source": [
    "---"
   ]
  },
  {
   "cell_type": "markdown",
   "id": "c1245143-31c2-4980-b027-8b16b9075d22",
   "metadata": {},
   "source": [
    "# Predictions!"
   ]
  },
  {
   "cell_type": "code",
   "execution_count": 284,
   "id": "9c305e82-7cda-47bb-bdb2-a26650880779",
   "metadata": {},
   "outputs": [],
   "source": [
    "new_model = tf.keras.models.load_model('./mnist-test1.keras')"
   ]
  },
  {
   "cell_type": "code",
   "execution_count": 296,
   "id": "230ed322-f7ad-43ce-b1cb-3d64d522f181",
   "metadata": {},
   "outputs": [
    {
     "name": "stdout",
     "output_type": "stream",
     "text": [
      "\u001b[1m313/313\u001b[0m \u001b[32m━━━━━━━━━━━━━━━━━━━━\u001b[0m\u001b[37m\u001b[0m \u001b[1m1s\u001b[0m 3ms/step\n",
      "[[1.8033859e-15 1.4734283e-11 6.7062319e-12 ... 9.9999005e-01\n",
      "  5.8886832e-12 3.4944506e-08]\n",
      " [2.8200147e-13 2.9453791e-09 9.9999994e-01 ... 2.1021146e-13\n",
      "  1.2769647e-11 1.6848257e-18]\n",
      " [1.6354781e-12 9.9999219e-01 3.1305337e-06 ... 4.3353125e-06\n",
      "  3.4977390e-08 3.0378260e-09]\n",
      " ...\n",
      " [4.7697291e-10 1.9769549e-14 4.4675968e-13 ... 1.6612622e-09\n",
      "  2.6876489e-08 1.0846112e-05]\n",
      " [1.5543555e-04 4.0986552e-15 1.2161887e-11 ... 1.0181475e-09\n",
      "  8.5401192e-02 3.9198592e-11]\n",
      " [6.3726087e-09 6.0562527e-11 8.6486824e-07 ... 5.3356231e-10\n",
      "  1.0241324e-09 1.9553321e-11]]\n"
     ]
    }
   ],
   "source": [
    "predictions = np.array(new_model.predict(x_test))\n",
    "print(predictions)"
   ]
  },
  {
   "cell_type": "code",
   "execution_count": 299,
   "id": "33727733-f1ae-4625-9751-8542e279ffa1",
   "metadata": {},
   "outputs": [
    {
     "name": "stdout",
     "output_type": "stream",
     "text": [
      "predicted: 5, actual: 5\n"
     ]
    },
    {
     "data": {
      "image/png": "[encoded data removed]",
      "text/plain": [
       "<Figure size 640x480 with 1 Axes>"
      ]
     },
     "metadata": {},
     "output_type": "display_data"
    }
   ],
   "source": [
    "import numpy as np\n",
    "\n",
    "n = 15\n",
    "print(f\"predicted: {np.argmax(predictions[n])}, actual: {y_test[n]}\")\n",
    "# print(x_test[n])\n",
    "plt.imshow(x_test[n],cmap=plt.cm.binary)\n",
    "plt.show()"
   ]
  },
  {
   "cell_type": "code",
   "execution_count": null,
   "id": "c5e06e3d-4eb7-407d-bfdb-5b0427f0de76",
   "metadata": {},
   "outputs": [],
   "source": []
  }
 ],
 "metadata": {
  "kernelspec": {
   "display_name": "Python 3 (ipykernel)",
   "language": "python",
   "name": "python3"
  },
  "language_info": {
   "codemirror_mode": {
    "name": "ipython",
    "version": 3
   },
   "file_extension": ".py",
   "mimetype": "text/x-python",
   "name": "python",
   "nbconvert_exporter": "python",
   "pygments_lexer": "ipython3",
   "version": "3.9.18"
  }
 },
 "nbformat": 4,
 "nbformat_minor": 5
}
